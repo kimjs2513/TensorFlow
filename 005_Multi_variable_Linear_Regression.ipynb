{
  "nbformat": 4,
  "nbformat_minor": 0,
  "metadata": {
    "colab": {
      "name": "005 Multi-variable Linear Regression",
      "provenance": [],
      "authorship_tag": "ABX9TyNdmJkuTcV3GMu9hpg5FHCR",
      "include_colab_link": true
    },
    "kernelspec": {
      "name": "python3",
      "display_name": "Python 3"
    }
  },
  "cells": [
    {
      "cell_type": "markdown",
      "metadata": {
        "id": "view-in-github",
        "colab_type": "text"
      },
      "source": [
        "<a href=\"https://colab.research.google.com/github/kimjs2513/TensorFlow/blob/master/005_Multi_variable_Linear_Regression.ipynb\" target=\"_parent\"><img src=\"https://colab.research.google.com/assets/colab-badge.svg\" alt=\"Open In Colab\"/></a>"
      ]
    },
    {
      "cell_type": "code",
      "metadata": {
        "id": "yyt-lhdJDr59",
        "colab_type": "code",
        "colab": {}
      },
      "source": [
        "import tensorflow as tf\n",
        "import numpy as np\n",
        "\n",
        "\n"
      ],
      "execution_count": null,
      "outputs": []
    },
    {
      "cell_type": "code",
      "metadata": {
        "id": "uBFQyTAFE2wc",
        "colab_type": "code",
        "colab": {
          "base_uri": "https://localhost:8080/",
          "height": 395
        },
        "outputId": "2e7ad37b-48db-44be-a35d-b208235e914c"
      },
      "source": [
        "#식으로 구현하기\n",
        "\n",
        "x1 = [73., 93., 89., 96., 73.]\n",
        "x2 = [80., 88., 91., 98., 66.]\n",
        "x3 = [75., 93., 90., 100., 70.]\n",
        "y = [152., 185., 180., 196., 142.]\n",
        "\n",
        "w1 = tf.Variable(tf.random.normal([1]))\n",
        "w2 = tf.Variable(tf.random.normal([1]))\n",
        "w3 = tf.Variable(tf.random.normal([1]))\n",
        "b = tf.Variable(tf.random.normal([1]))\n",
        "\n",
        "learning_rate = 0.00001\n",
        "\n",
        "for i in range(1000+1):\n",
        "  with tf.GradientTape() as tape:\n",
        "    hypothesis = w1*x1 + w2*x2 + w3*x3 + b \n",
        "    cost = tf.reduce_mean(tf.square(hypothesis - y))\n",
        "\n",
        "    w1_grad, w2_grad, w3_grad, b_grad = tape.gradient(cost, [w1, w2, w3, b])\n",
        "\n",
        "    w1.assign_sub(learning_rate * w1_grad)\n",
        "    w2.assign_sub(learning_rate * w2_grad)\n",
        "    w3.assign_sub(learning_rate * w3_grad)\n",
        "    b.assign_sub(learning_rate * b_grad) \n",
        "\n",
        "    if i % 50 == 0:\n",
        "      print(\"{:5} | {:12.4f}\".format(i, cost.numpy())) "
      ],
      "execution_count": null,
      "outputs": [
        {
          "output_type": "stream",
          "text": [
            "    0 |  135774.6094\n",
            "   50 |       4.1404\n",
            "  100 |       4.1308\n",
            "  150 |       4.1212\n",
            "  200 |       4.1116\n",
            "  250 |       4.1021\n",
            "  300 |       4.0926\n",
            "  350 |       4.0830\n",
            "  400 |       4.0735\n",
            "  450 |       4.0641\n",
            "  500 |       4.0547\n",
            "  550 |       4.0452\n",
            "  600 |       4.0359\n",
            "  650 |       4.0265\n",
            "  700 |       4.0172\n",
            "  750 |       4.0079\n",
            "  800 |       3.9986\n",
            "  850 |       3.9893\n",
            "  900 |       3.9801\n",
            "  950 |       3.9708\n",
            " 1000 |       3.9617\n"
          ],
          "name": "stdout"
        }
      ]
    },
    {
      "cell_type": "code",
      "metadata": {
        "id": "ayHIIFU9Ig6p",
        "colab_type": "code",
        "colab": {
          "base_uri": "https://localhost:8080/",
          "height": 395
        },
        "outputId": "06f3e89e-aeaf-4c92-f849-5aa01ab3bf63"
      },
      "source": [
        "#행렬로 구현하기\n",
        "data = np.array([\n",
        "    # x1,  x2,  x3,   y\n",
        "     [73., 80., 75., 152.],\n",
        "     [93., 88., 93., 185.],\n",
        "     [89., 91., 90., 180.],\n",
        "     [96., 98., 100., 196.],\n",
        "     [73., 66., 70., 142.]\n",
        "\n",
        "], dtype=np.float32)\n",
        "\n",
        "X = data[:, :-1] # 행렬은 ,를 기준으로 행과 열을 나타냄. 앞에 :만 있기 때문에 전체 행을 의미하고 :-1은 마지막 열을 뺀 전부를 의미함\n",
        "y = data[:, [-1]] #행전체와 마지막 열을 의미\n",
        "\n",
        "w = tf.Variable(tf.random.normal([3,1])) #가중치 행렬은 3by1행렬이 필요\n",
        "b = tf.Variable(tf.random.normal([1]))\n",
        "learning_rate = 0.000001\n",
        "\n",
        "def predict(X):\n",
        "  return tf.matmul(X, w) + b\n",
        "for i in range(2000+1):\n",
        "  with tf.GradientTape() as tape:\n",
        "    cost = tf.reduce_mean((tf.square(predict(X)- y)))\n",
        "  w_grad, b_grad = tape.gradient(cost, [w,b])\n",
        "\n",
        "  w.assign_sub(learning_rate * w_grad)\n",
        "  b.assign_sub(learning_rate * b_grad)\n",
        "\n",
        "  if i % 100 == 0:\n",
        "    print(\n",
        "        \"{:5} | {:12.4f}.\".format(i, cost.numpy())\n",
        "    )"
      ],
      "execution_count": null,
      "outputs": [
        {
          "output_type": "stream",
          "text": [
            "    0 |   91101.1641.\n",
            "  100 |      12.1900.\n",
            "  200 |       0.9745.\n",
            "  300 |       0.9727.\n",
            "  400 |       0.9724.\n",
            "  500 |       0.9720.\n",
            "  600 |       0.9716.\n",
            "  700 |       0.9712.\n",
            "  800 |       0.9708.\n",
            "  900 |       0.9705.\n",
            " 1000 |       0.9701.\n",
            " 1100 |       0.9697.\n",
            " 1200 |       0.9693.\n",
            " 1300 |       0.9690.\n",
            " 1400 |       0.9686.\n",
            " 1500 |       0.9682.\n",
            " 1600 |       0.9679.\n",
            " 1700 |       0.9675.\n",
            " 1800 |       0.9671.\n",
            " 1900 |       0.9667.\n",
            " 2000 |       0.9664.\n"
          ],
          "name": "stdout"
        }
      ]
    },
    {
      "cell_type": "code",
      "metadata": {
        "id": "HgyHsKFWNP3G",
        "colab_type": "code",
        "colab": {}
      },
      "source": [
        ""
      ],
      "execution_count": null,
      "outputs": []
    }
  ]
}