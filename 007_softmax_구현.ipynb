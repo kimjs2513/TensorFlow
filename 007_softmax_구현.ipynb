{
  "nbformat": 4,
  "nbformat_minor": 0,
  "metadata": {
    "colab": {
      "name": "007_softmax_구현",
      "provenance": [],
      "authorship_tag": "ABX9TyNVP7RJluRBExH+EndGPc6d",
      "include_colab_link": true
    },
    "kernelspec": {
      "name": "python3",
      "display_name": "Python 3"
    }
  },
  "cells": [
    {
      "cell_type": "markdown",
      "metadata": {
        "id": "view-in-github",
        "colab_type": "text"
      },
      "source": [
        "<a href=\"https://colab.research.google.com/github/kimjs2513/TensorFlow/blob/master/007_softmax_%EA%B5%AC%ED%98%84.ipynb\" target=\"_parent\"><img src=\"https://colab.research.google.com/assets/colab-badge.svg\" alt=\"Open In Colab\"/></a>"
      ]
    },
    {
      "cell_type": "code",
      "metadata": {
        "id": "b01xiczkCDyR",
        "colab_type": "code",
        "colab": {
          "base_uri": "https://localhost:8080/",
          "height": 35
        },
        "outputId": "7b0c2b1c-5d74-4169-e93a-0a4d5cd449c2"
      },
      "source": [
        "import tensorflow as tf\n",
        "import numpy as np\n",
        "\n",
        "print(tf.__version__)\n",
        "\n",
        "tf.random.set_seed(777)  # for reproducibility"
      ],
      "execution_count": 1,
      "outputs": [
        {
          "output_type": "stream",
          "text": [
            "2.3.0\n"
          ],
          "name": "stdout"
        }
      ]
    },
    {
      "cell_type": "code",
      "metadata": {
        "id": "QvXBlsqMJugA",
        "colab_type": "code",
        "colab": {
          "base_uri": "https://localhost:8080/",
          "height": 991
        },
        "outputId": "2aef799e-78e2-40c4-8d0a-aedcd2150844"
      },
      "source": [
        "x_data = [[1, 2, 1, 1],\n",
        "          [2, 1, 3, 2],\n",
        "          [3, 1, 3, 4],\n",
        "          [4, 1, 5, 5],\n",
        "          [1, 7, 5, 5],\n",
        "          [1, 2, 5, 6],\n",
        "          [1, 6, 6, 6],\n",
        "          [1, 7, 7, 7]]\n",
        "y_data = [[0, 0, 1], #one-hot encoding으로 처리 된 것.\n",
        "          [0, 0, 1],\n",
        "          [0, 0, 1],\n",
        "          [0, 1, 0],\n",
        "          [0, 1, 0],\n",
        "          [0, 1, 0],\n",
        "          [1, 0, 0],\n",
        "          [1, 0, 0]]\n",
        "\n",
        "#convert into numpy and float format\n",
        "x_data = np.asarray(x_data, dtype=np.float32)\n",
        "y_data = np.asarray(y_data, dtype=np.float32)\n",
        "\n",
        "\n",
        "# 분류 클래스 개수\n",
        "nb_classes = 3\n",
        "\n",
        "W = tf.Variable(tf.random.normal((4, nb_classes)), name='weight')\n",
        "b = tf.Variable(tf.random.normal((nb_classes,)), name='bias')\n",
        "variables = [W, b]\n",
        "\n",
        "print(W,b)\n",
        "\n",
        "\n",
        "def hypothesis(X):\n",
        "    return tf.nn.softmax(tf.matmul(X, W) + b) #tf.nn.softmax -> softmax 구현\n",
        "\n",
        "print(hypothesis(x_data))\n",
        "\n",
        "# Softmax onehot test\n",
        "sample_db = [[8,2,1,4]]\n",
        "sample_db = np.asarray(sample_db, dtype=np.float32)\n",
        "\n",
        "print(hypothesis(sample_db))\n",
        "\n",
        "def cost_fn(X, Y): #cost 함수 구현\n",
        "    logits = hypothesis(X)\n",
        "    cost = -tf.reduce_sum(Y * tf.math.log(logits), axis=1) #cross entropy cost function 구현. \n",
        "    cost_mean = tf.reduce_mean(cost)\n",
        "    \n",
        "    return cost_mean\n",
        "\n",
        "print(cost_fn(x_data, y_data))\n",
        "\n",
        "def grad_fn(X, Y): # 경사하강법 구현\n",
        "    with tf.GradientTape() as tape:\n",
        "        cost = cost_fn(X, Y)\n",
        "        grads = tape.gradient(cost, variables) #variable은 W와 b를 의미\n",
        "\n",
        "        return grads\n",
        "\n",
        "print(grad_fn(x_data, y_data))\n",
        "\n",
        "def fit(X, Y, epochs = 2000, verbos = 100):\n",
        "    optimizer = tf.keras.optimizers.SGD(learning_rate = 0.01)\n",
        "    for i in range(epochs):\n",
        "        grads = grad_fn(X, Y)\n",
        "        optimizer.apply_gradients(zip(grads, variables))\n",
        "        if (i == 0) or ((i + 1) % verbos) == 0:\n",
        "            print(\"Loss at epoch %d : %f\" % (i + 1, cost_fn(X, Y).numpy()))\n",
        "fit(x_data, y_data)  \n",
        "\n",
        "b = hypothesis(x_data)\n",
        "print(b)\n",
        "print(tf.argmax(b, 1)) #tf.argmax(2차원배열, 1)을 사용하면 각 행 중에서 가장 큰 수를 찾아낸다. / 1이 아닌 0을 사용하면 각 열에서 가장 큰 수를 찾아냄.\n",
        "print(tf.argmax(y_data, 1)) # matches with y_data"
      ],
      "execution_count": 7,
      "outputs": [
        {
          "output_type": "stream",
          "text": [
            "<tf.Variable 'weight:0' shape=(4, 3) dtype=float32, numpy=\n",
            "array([[-1.2832785 , -0.57372373,  0.8555362 ],\n",
            "       [ 0.36409333, -1.008571  , -1.1627557 ],\n",
            "       [ 1.7711345 , -0.5514343 , -0.11697779],\n",
            "       [ 0.9940506 ,  1.0928452 ,  1.4065602 ]], dtype=float32)> <tf.Variable 'bias:0' shape=(3,) dtype=float32, numpy=array([ 0.00882025, -0.35115844,  0.43264598], dtype=float32)>\n",
            "tf.Tensor(\n",
            "[[8.6973101e-01 8.5733375e-03 1.2169565e-01]\n",
            " [8.4027678e-01 7.0474501e-04 1.5901843e-01]\n",
            " [2.1421744e-01 4.4507373e-04 7.8533745e-01]\n",
            " [4.8144269e-01 2.1568791e-05 5.1853567e-01]\n",
            " [9.9999976e-01 1.4124402e-09 1.8492470e-07]\n",
            " [9.9942112e-01 1.4904855e-06 5.7730370e-04]\n",
            " [9.9999976e-01 6.0302913e-10 1.9464851e-07]\n",
            " [1.0000000e+00 1.6535809e-11 9.6672768e-09]], shape=(8, 3), dtype=float32)\n",
            "tf.Tensor([[6.5242233e-07 1.2419434e-06 9.9999809e-01]], shape=(1, 3), dtype=float32)\n",
            "tf.Tensor(6.0906534, shape=(), dtype=float32)\n",
            "[<tf.Tensor: shape=(4, 3), dtype=float32, numpy=\n",
            "array([[ 0.889766  , -0.74857426, -0.14119184],\n",
            "       [ 1.5342798 , -1.2477098 , -0.28657   ],\n",
            "       [ 2.0546913 , -1.8734827 , -0.18120873],\n",
            "       [ 2.1013615 , -1.9985149 , -0.10284666]], dtype=float32)>, <tf.Tensor: shape=(3,), dtype=float32, numpy=array([ 0.55063605, -0.37378174, -0.17685439], dtype=float32)>]\n",
            "Loss at epoch 1 : 5.872458\n",
            "Loss at epoch 100 : 0.647831\n",
            "Loss at epoch 200 : 0.592838\n",
            "Loss at epoch 300 : 0.554143\n",
            "Loss at epoch 400 : 0.526974\n",
            "Loss at epoch 500 : 0.507470\n",
            "Loss at epoch 600 : 0.492719\n",
            "Loss at epoch 700 : 0.480825\n",
            "Loss at epoch 800 : 0.470704\n",
            "Loss at epoch 900 : 0.461768\n",
            "Loss at epoch 1000 : 0.453690\n",
            "Loss at epoch 1100 : 0.446274\n",
            "Loss at epoch 1200 : 0.439399\n",
            "Loss at epoch 1300 : 0.432977\n",
            "Loss at epoch 1400 : 0.426945\n",
            "Loss at epoch 1500 : 0.421251\n",
            "Loss at epoch 1600 : 0.415857\n",
            "Loss at epoch 1700 : 0.410728\n",
            "Loss at epoch 1800 : 0.405837\n",
            "Loss at epoch 1900 : 0.401159\n",
            "Loss at epoch 2000 : 0.396674\n",
            "tf.Tensor(\n",
            "[[1.2766244e-02 6.7788891e-02 9.1944492e-01]\n",
            " [4.3569095e-02 2.2367167e-01 7.3275918e-01]\n",
            " [6.5306021e-04 3.7301812e-01 6.2632889e-01]\n",
            " [1.1355381e-03 6.2688464e-01 3.7197977e-01]\n",
            " [5.0605190e-01 4.4670051e-01 4.7247648e-02]\n",
            " [2.3763940e-01 7.5797129e-01 4.3892721e-03]\n",
            " [6.3631642e-01 3.5889226e-01 4.7913278e-03]\n",
            " [7.3450208e-01 2.6454368e-01 9.5426553e-04]], shape=(8, 3), dtype=float32)\n",
            "tf.Tensor([2 2 2 1 0 1 0 0], shape=(8,), dtype=int64)\n",
            "tf.Tensor([2 2 2 1 1 1 0 0], shape=(8,), dtype=int64)\n"
          ],
          "name": "stdout"
        }
      ]
    },
    {
      "cell_type": "code",
      "metadata": {
        "id": "-ZUymNCjMdRX",
        "colab_type": "code",
        "colab": {}
      },
      "source": [
        ""
      ],
      "execution_count": null,
      "outputs": []
    }
  ]
}