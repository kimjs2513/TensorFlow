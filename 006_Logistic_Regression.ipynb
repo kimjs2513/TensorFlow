{
  "nbformat": 4,
  "nbformat_minor": 0,
  "metadata": {
    "colab": {
      "name": "006 Logistic Regression",
      "provenance": [],
      "authorship_tag": "ABX9TyOQIw8LHIdwGE8nGHRKLpoe",
      "include_colab_link": true
    },
    "kernelspec": {
      "name": "python3",
      "display_name": "Python 3"
    }
  },
  "cells": [
    {
      "cell_type": "markdown",
      "metadata": {
        "id": "view-in-github",
        "colab_type": "text"
      },
      "source": [
        "<a href=\"https://colab.research.google.com/github/kimjs2513/TensorFlow/blob/master/006_Logistic_Regression.ipynb\" target=\"_parent\"><img src=\"https://colab.research.google.com/assets/colab-badge.svg\" alt=\"Open In Colab\"/></a>"
      ]
    },
    {
      "cell_type": "code",
      "metadata": {
        "id": "nLSmTjuTM0kg",
        "colab_type": "code",
        "colab": {}
      },
      "source": [
        "#Logistic Regression  텐서플로우로 구현하기"
      ],
      "execution_count": null,
      "outputs": []
    },
    {
      "cell_type": "code",
      "metadata": {
        "id": "i5Hk4WMT4p_e",
        "colab_type": "code",
        "colab": {
          "base_uri": "https://localhost:8080/",
          "height": 513
        },
        "outputId": "f415376f-f74d-4fe2-da79-eb2ac4b515eb"
      },
      "source": [
        "\n",
        "import numpy as np\n",
        "import matplotlib.pyplot as plt\n",
        "import tensorflow as tf\n",
        "\n",
        "x_train = [[1., 2.], [2., 3.], [3., 1.], [4., 3.], [5., 3.], [6., 2.]]\n",
        "y_train = [[0.], [0.], [0.], [1.], [1.], [1.]]\n",
        "\n",
        "x_test = [[5., 2.]]\n",
        "y_test = [[1.]]\n",
        "\n",
        "x1 = [x[0] for x in x_train]\n",
        "x2 = [x[1] for x in x_train]\n",
        "\n",
        "colors = [int(y[0] % 3) for y in y_train]\n",
        "plt.scatter(x1, x2, c = colors, marker='^')\n",
        "plt.scatter(x_test[0][0], x_test[0][1], c='red')\n",
        "\n",
        "plt.xlabel('x1')\n",
        "plt.ylabel('x2')\n",
        "plt.show()\n",
        "\n",
        "#0의 값을 가지는 것들은 보라색, 1의 값은 노란색으로 나타나며, 테스트 값은 빨간색으로 나타난다.\n",
        "\n",
        "dataset = tf.data.Dataset.from_tensor_slices((x_train, y_train)) #x_train데이터를 1행 2열의 행렬과, y_train데이터를 1행1열의 행렬로 만들어준다  # [0, 0] [0] * 6\n",
        "\n",
        "W = tf.Variable(tf.zeros([2, 1]), name = 'weight')  \n",
        "b = tf.Variable(tf.zeros([1]), name = 'bias')\n",
        "#연산을 위해 W를 2행 1열의 행렬로 만들어주고, b를 1행 1열로 만들어 준다.\n",
        "'''\n",
        "X[0 0]W[0] + b[0] = y[0]\n",
        "       [0]\n",
        "'''\n",
        "\n",
        "def logistic_regression(features): #sigmoid 함수 만들어주기\n",
        "    hypothesis = tf.divide(1., 1. + tf.exp(-tf.matmul(features, W) + b)) #mat.mul은 행렬곱을 의미\n",
        "    # 1 / 1 + e^x\n",
        "    # x = H(X) = XW + b\n",
        "    return hypothesis\n",
        "\n",
        "def loss_fn(hypothesis, labels):\n",
        "    cost = -tf.reduce_mean(labels * tf.math.log(hypothesis) + (1 - labels) * tf.math.log(1 - hypothesis))\n",
        "    # cost(h(x), y) = -ylog(h(x)) - (1 - y)log(1 - h(x))\n",
        "    return cost\n",
        "\n",
        "# Gradient Descent\n",
        "optimizer = tf.keras.optimizers.SGD(learning_rate = 0.01) #cost값을 줄이는 것을 선언, Gradient descent\n",
        "\n",
        "def accuracy_fn(hypothesis, labels):\n",
        "    predicted = tf.cast(hypothesis > 0.5, dtype = tf.float32) #0.5이상이명 1, 0.5이하면 0 return\n",
        "    accuracy = tf.reduce_mean(tf.cast(tf.equal(predicted, labels), dtype = tf.int32)) #predicted값과 labels값이 일치하면 accuracy 증가\n",
        "    # equl: predicted, label 일치하는지 비교\n",
        "    # cast : True -> 1, False -> 0 return\n",
        "    # reduce_mean -> 해당 값들 평균\n",
        "    return accuracy\n",
        "\n",
        "def grad(features, labels):\n",
        "    with tf.GradientTape() as tape: #gradienttape()를 이용해 미분값을 기록\n",
        "        hypothesis = logistic_regression(features)\n",
        "        loss_value = loss_fn(hypothesis, labels)\n",
        "    return tape.gradient(loss_value, [W, b])\n",
        "\n",
        "EPOCHS = 1001 #학습 횟수, iteration: 데이터를 몇번에 나누어서 주는지, batch size: iteration마다 주는 데이터 사이즈\n",
        "\n",
        "for step in range(EPOCHS):\n",
        "    for features, labels in iter(dataset.batch(len(x_train))):  # x_train 의 길이만큼 dataset 가져오기\n",
        "        hypothesis = logistic_regression(features) #가설 함수 값\n",
        "        grads = grad(features, labels) # 미분 값\n",
        "        optimizer.apply_gradients(grads_and_vars = zip(grads, [W, b])) # W, b 값 업데이트\n",
        "        \n",
        "        if step % 100 == 0:\n",
        "            print(\"Iter: {}, Loss: {:.4f}\".format(step, loss_fn(hypothesis, labels)))\n",
        "            \n",
        "test_acc = accuracy_fn(logistic_regression(x_test), y_test)\n",
        "print(\"Test Result = {}\".format(tf.cast(logistic_regression(x_test) > 0.5, dtype = tf.int32)))\n",
        "print(\"Testset Accuracy : {:.4f}\".format(test_acc))\n"
      ],
      "execution_count": 18,
      "outputs": [
        {
          "output_type": "display_data",
          "data": {
            "image/png": "[encoded data removed]",
            "text/plain": [
              "<Figure size 432x288 with 1 Axes>"
            ]
          },
          "metadata": {
            "tags": [],
            "needs_background": "light"
          }
        },
        {
          "output_type": "stream",
          "text": [
            "Iter: 0, Loss: 0.6931\n",
            "Iter: 100, Loss: 0.5781\n",
            "Iter: 200, Loss: 0.5352\n",
            "Iter: 300, Loss: 0.5056\n",
            "Iter: 400, Loss: 0.4840\n",
            "Iter: 500, Loss: 0.4673\n",
            "Iter: 600, Loss: 0.4537\n",
            "Iter: 700, Loss: 0.4421\n",
            "Iter: 800, Loss: 0.4320\n",
            "Iter: 900, Loss: 0.4229\n",
            "Iter: 1000, Loss: 0.4145\n",
            "Test Result = [[1]]\n",
            "Testset Accuracy : 1.0000\n"
          ],
          "name": "stdout"
        }
      ]
    },
    {
      "cell_type": "code",
      "metadata": {
        "id": "2_zzgU6e6ZLJ",
        "colab_type": "code",
        "colab": {}
      },
      "source": [
        ""
      ],
      "execution_count": null,
      "outputs": []
    }
  ]
}