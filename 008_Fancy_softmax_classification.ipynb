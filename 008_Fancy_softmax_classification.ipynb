{
  "nbformat": 4,
  "nbformat_minor": 0,
  "metadata": {
    "colab": {
      "name": "008_Fancy_softmax_classification",
      "provenance": [],
      "authorship_tag": "ABX9TyN7w+Q14EnlG2ET82Q1MIEt",
      "include_colab_link": true
    },
    "kernelspec": {
      "name": "python3",
      "display_name": "Python 3"
    }
  },
  "cells": [
    {
      "cell_type": "markdown",
      "metadata": {
        "id": "view-in-github",
        "colab_type": "text"
      },
      "source": [
        "<a href=\"https://colab.research.google.com/github/kimjs2513/TensorFlow/blob/master/008_Fancy_softmax_classification.ipynb\" target=\"_parent\"><img src=\"https://colab.research.google.com/assets/colab-badge.svg\" alt=\"Open In Colab\"/></a>"
      ]
    },
    {
      "cell_type": "code",
      "metadata": {
        "id": "-rjAI0P8lLNL",
        "colab_type": "code",
        "colab": {
          "base_uri": "https://localhost:8080/",
          "height": 35
        },
        "outputId": "a4ff7e2d-c639-44be-b483-fcee7e1f5036"
      },
      "source": [
        "from google.colab import drive\n",
        "drive.mount('/content/drive')"
      ],
      "execution_count": null,
      "outputs": [
        {
          "output_type": "stream",
          "text": [
            "Mounted at /content/drive\n"
          ],
          "name": "stdout"
        }
      ]
    },
    {
      "cell_type": "code",
      "metadata": {
        "id": "DUGve2vjRzEM",
        "colab_type": "code",
        "colab": {
          "base_uri": "https://localhost:8080/",
          "height": 233
        },
        "outputId": "8e6e5fb1-c80e-406c-cbfb-f9232cf7a69d"
      },
      "source": [
        "import tensorflow as tf\n",
        "import numpy as np\n",
        "\n",
        "tf.random.set_seed(777)  # for reproducibility\n",
        "\n",
        "\n",
        "xy = np.loadtxt('/content/drive/My Drive/csv/data-04-zoo.csv', delimiter=',', dtype=np.float32)\n",
        "x_data = xy[:, 0:-1]\n",
        "y_data = xy[:,[ -1]]\n",
        "\n",
        "nb_classes = 7  # 0 ~ 6\n",
        "\n",
        "\n",
        "# Make Y data as onehot shape, 맨 끝 열을 보면 one-hot 형태로 되어 있지 않기 때문에 \n",
        "Y_one_hot = tf.one_hot(y_data.astype(np.int32), nb_classes) #one hot encoding을 하면 1차원이 늘게 됨\n",
        "Y_one_hot = tf.reshape(Y_one_hot,[ -1, nb_classes]) #3차원이 된 것을 다시 2차원으로 만들어줘야함. -1은 everything을 의미한다.\n",
        "\n",
        "\n",
        "print(x_data.shape, Y_one_hot.shape)\n",
        "\n",
        "#Weight and bias setting\n",
        "W = tf.Variable(tf.random.normal((16, nb_classes)), name='weight') #x에 관련된 열이 16개, y가 7가지로 출력될 수 있기때문에->nb_classes\n",
        "b = tf.Variable(tf.random.normal((nb_classes,)), name='bias')\n",
        "variables = [W, b]\n",
        "\n",
        "# tf.nn.softmax computes softmax activations\n",
        "# softmax = exp(logits) / reduce_sum(exp(logits), dim)\n",
        "def logit_fn(X):\n",
        "    return tf.matmul(X, W) + b\n",
        "\n",
        "def hypothesis(X):\n",
        "    return tf.nn.softmax(logit_fn(X))\n",
        "\n",
        "def cost_fn(X, Y):\n",
        "    logits = logit_fn(X)\n",
        "    cost_i = tf.keras.losses.categorical_crossentropy(y_true=Y, y_pred=logits, \n",
        "                                                      from_logits=True)    \n",
        "    cost = tf.reduce_mean(cost_i)    \n",
        "    return cost\n",
        "\n",
        "def grad_fn(X, Y):\n",
        "    with tf.GradientTape() as tape:\n",
        "        loss = cost_fn(X, Y)\n",
        "        grads = tape.gradient(loss, variables)\n",
        "        return grads\n",
        "    \n",
        "def prediction(X, Y):\n",
        "    pred = tf.argmax(hypothesis(X), 1) #argmax -> hypothesis를 0~6사이의 값으로 만들어준다.\n",
        "    correct_prediction = tf.equal(pred, tf.argmax(Y, 1))\n",
        "    accuracy = tf.reduce_mean(tf.cast(correct_prediction, tf.float32)) #cast는 파라미터가 float일 경우 소수점을 버림. boolean일 경우에는 true or false를 return한다.\n",
        "\n",
        "    return accuracy\n",
        "\n",
        "def fit(X, Y, epochs=1000, verbose=100):\n",
        "    optimizer =  tf.keras.optimizers.SGD(learning_rate=0.1)\n",
        "\n",
        "    for i in range(epochs):\n",
        "        grads = grad_fn(X, Y)\n",
        "        optimizer.apply_gradients(zip(grads, variables))\n",
        "        if (i==0) | ((i+1)%verbose==0):\n",
        "            acc = prediction(X, Y).numpy()\n",
        "            loss = cost_fn(X, Y).numpy() \n",
        "            print('Steps: {} Loss: {}, Acc: {}'.format(i+1, loss, acc))\n",
        "\n",
        "fit(x_data, Y_one_hot)\n",
        "\n"
      ],
      "execution_count": null,
      "outputs": [
        {
          "output_type": "stream",
          "text": [
            "(101, 16) (101, 7)\n",
            "Steps: 1 Loss: 3.635028839111328, Acc: 0.1683168262243271\n",
            "Steps: 100 Loss: 0.5194157958030701, Acc: 0.7920792102813721\n",
            "Steps: 200 Loss: 0.31850090622901917, Acc: 0.9108911156654358\n",
            "Steps: 300 Loss: 0.23534876108169556, Acc: 0.9405940771102905\n",
            "Steps: 400 Loss: 0.18872135877609253, Acc: 0.9504950642585754\n",
            "Steps: 500 Loss: 0.1584603488445282, Acc: 0.9504950642585754\n",
            "Steps: 600 Loss: 0.13703754544258118, Acc: 0.9900990128517151\n",
            "Steps: 700 Loss: 0.12098980695009232, Acc: 0.9900990128517151\n",
            "Steps: 800 Loss: 0.10847963392734528, Acc: 1.0\n",
            "Steps: 900 Loss: 0.09843039512634277, Acc: 1.0\n",
            "Steps: 1000 Loss: 0.09016557037830353, Acc: 1.0\n"
          ],
          "name": "stdout"
        }
      ]
    },
    {
      "cell_type": "code",
      "metadata": {
        "id": "406ACMMOQN2J",
        "colab_type": "code",
        "colab": {}
      },
      "source": [
        ""
      ],
      "execution_count": null,
      "outputs": []
    }
  ]
}